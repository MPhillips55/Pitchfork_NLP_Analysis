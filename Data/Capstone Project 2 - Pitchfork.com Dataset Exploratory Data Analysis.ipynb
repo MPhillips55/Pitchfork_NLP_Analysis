{
 "cells": [
  {
   "cell_type": "markdown",
   "metadata": {},
   "source": [
    "# Capstone Project 2 - Pitchfork.com Dataset Exploratory Data Analysis\n",
    "# Michael Phillips"
   ]
  },
  {
   "cell_type": "markdown",
   "metadata": {},
   "source": [
    "## Introduction\n",
    "\n",
    "Pitchfork is one of the most influential music news and review sites currently in operation. Launched in 1995, the site has slowly grown over the years into the industry powerhouse it is today. Musical acts can achieve overnight success with a positive Pitchfork review. Bands like Arcade Fire, The National, and Deafheaven have all benefited from the Pitchfork 'bump'.\n",
    "\n",
    "This exploration will look at preliminary metrics pulled from the data to get a sense of what the dataset holds and to provide context for the Natural Language Processing (NLP) analysis that will follow. Curiously, Pitchfork does not allow a user to filter and aggregate their reviews like I will do here. "
   ]
  },
  {
   "cell_type": "markdown",
   "metadata": {},
   "source": [
    "## The Data\n",
    "\n",
    "The main part of this dataset is the actual review texts, which will be examined separately. \n",
    "\n",
    "Here we will be looking at the review 'metadata', trends within the reviews as a whole including top artists, how reviews fluctuate over time, and differences between the many reviewers Pitchfork has worked with over the years."
   ]
  },
  {
   "cell_type": "code",
   "execution_count": 11,
   "metadata": {
    "collapsed": true
   },
   "outputs": [],
   "source": [
    "import numpy as np\n",
    "import pandas as pd\n",
    "import matplotlib.pyplot as plt\n",
    "import seaborn as sns\n",
    "%matplotlib inline"
   ]
  },
  {
   "cell_type": "code",
   "execution_count": 105,
   "metadata": {
    "collapsed": false
   },
   "outputs": [
    {
     "data": {
      "text/html": [
       "<div>\n",
       "<style>\n",
       "    .dataframe thead tr:only-child th {\n",
       "        text-align: right;\n",
       "    }\n",
       "\n",
       "    .dataframe thead th {\n",
       "        text-align: left;\n",
       "    }\n",
       "\n",
       "    .dataframe tbody tr th {\n",
       "        vertical-align: top;\n",
       "    }\n",
       "</style>\n",
       "<table border=\"1\" class=\"dataframe\">\n",
       "  <thead>\n",
       "    <tr style=\"text-align: right;\">\n",
       "      <th></th>\n",
       "      <th>reviewid</th>\n",
       "      <th>title</th>\n",
       "      <th>artist</th>\n",
       "      <th>url</th>\n",
       "      <th>score</th>\n",
       "      <th>best_new_music</th>\n",
       "      <th>author</th>\n",
       "      <th>author_type</th>\n",
       "      <th>pub_date</th>\n",
       "      <th>pub_weekday</th>\n",
       "      <th>pub_day</th>\n",
       "      <th>pub_month</th>\n",
       "      <th>pub_year</th>\n",
       "      <th>year</th>\n",
       "      <th>genre</th>\n",
       "      <th>label</th>\n",
       "    </tr>\n",
       "  </thead>\n",
       "  <tbody>\n",
       "    <tr>\n",
       "      <th>0</th>\n",
       "      <td>22703</td>\n",
       "      <td>mezzanine</td>\n",
       "      <td>massive attack</td>\n",
       "      <td>http://pitchfork.com/reviews/albums/22703-mezz...</td>\n",
       "      <td>9.3</td>\n",
       "      <td>0</td>\n",
       "      <td>nate patrin</td>\n",
       "      <td>contributor</td>\n",
       "      <td>2017-01-08</td>\n",
       "      <td>6</td>\n",
       "      <td>8</td>\n",
       "      <td>1</td>\n",
       "      <td>2017</td>\n",
       "      <td>1998.0</td>\n",
       "      <td>electronic</td>\n",
       "      <td>virgin</td>\n",
       "    </tr>\n",
       "    <tr>\n",
       "      <th>1</th>\n",
       "      <td>22721</td>\n",
       "      <td>prelapsarian</td>\n",
       "      <td>krallice</td>\n",
       "      <td>http://pitchfork.com/reviews/albums/22721-prel...</td>\n",
       "      <td>7.9</td>\n",
       "      <td>0</td>\n",
       "      <td>zoe camp</td>\n",
       "      <td>contributor</td>\n",
       "      <td>2017-01-07</td>\n",
       "      <td>5</td>\n",
       "      <td>7</td>\n",
       "      <td>1</td>\n",
       "      <td>2017</td>\n",
       "      <td>2016.0</td>\n",
       "      <td>metal</td>\n",
       "      <td>hathenter</td>\n",
       "    </tr>\n",
       "    <tr>\n",
       "      <th>2</th>\n",
       "      <td>22659</td>\n",
       "      <td>all of them naturals</td>\n",
       "      <td>uranium club</td>\n",
       "      <td>http://pitchfork.com/reviews/albums/22659-all-...</td>\n",
       "      <td>7.3</td>\n",
       "      <td>0</td>\n",
       "      <td>david glickman</td>\n",
       "      <td>contributor</td>\n",
       "      <td>2017-01-07</td>\n",
       "      <td>5</td>\n",
       "      <td>7</td>\n",
       "      <td>1</td>\n",
       "      <td>2017</td>\n",
       "      <td>2016.0</td>\n",
       "      <td>rock</td>\n",
       "      <td>static shock</td>\n",
       "    </tr>\n",
       "    <tr>\n",
       "      <th>3</th>\n",
       "      <td>22659</td>\n",
       "      <td>all of them naturals</td>\n",
       "      <td>uranium club</td>\n",
       "      <td>http://pitchfork.com/reviews/albums/22659-all-...</td>\n",
       "      <td>7.3</td>\n",
       "      <td>0</td>\n",
       "      <td>david glickman</td>\n",
       "      <td>contributor</td>\n",
       "      <td>2017-01-07</td>\n",
       "      <td>5</td>\n",
       "      <td>7</td>\n",
       "      <td>1</td>\n",
       "      <td>2017</td>\n",
       "      <td>2016.0</td>\n",
       "      <td>rock</td>\n",
       "      <td>fashionable idiots</td>\n",
       "    </tr>\n",
       "    <tr>\n",
       "      <th>4</th>\n",
       "      <td>22661</td>\n",
       "      <td>first songs</td>\n",
       "      <td>kleenex, liliput</td>\n",
       "      <td>http://pitchfork.com/reviews/albums/22661-firs...</td>\n",
       "      <td>9.0</td>\n",
       "      <td>1</td>\n",
       "      <td>jenn pelly</td>\n",
       "      <td>associate reviews editor</td>\n",
       "      <td>2017-01-06</td>\n",
       "      <td>4</td>\n",
       "      <td>6</td>\n",
       "      <td>1</td>\n",
       "      <td>2017</td>\n",
       "      <td>2016.0</td>\n",
       "      <td>rock</td>\n",
       "      <td>kill rock stars</td>\n",
       "    </tr>\n",
       "  </tbody>\n",
       "</table>\n",
       "</div>"
      ],
      "text/plain": [
       "   reviewid                 title            artist  \\\n",
       "0     22703             mezzanine    massive attack   \n",
       "1     22721          prelapsarian          krallice   \n",
       "2     22659  all of them naturals      uranium club   \n",
       "3     22659  all of them naturals      uranium club   \n",
       "4     22661           first songs  kleenex, liliput   \n",
       "\n",
       "                                                 url  score  best_new_music  \\\n",
       "0  http://pitchfork.com/reviews/albums/22703-mezz...    9.3               0   \n",
       "1  http://pitchfork.com/reviews/albums/22721-prel...    7.9               0   \n",
       "2  http://pitchfork.com/reviews/albums/22659-all-...    7.3               0   \n",
       "3  http://pitchfork.com/reviews/albums/22659-all-...    7.3               0   \n",
       "4  http://pitchfork.com/reviews/albums/22661-firs...    9.0               1   \n",
       "\n",
       "           author               author_type    pub_date  pub_weekday  pub_day  \\\n",
       "0     nate patrin               contributor  2017-01-08            6        8   \n",
       "1        zoe camp               contributor  2017-01-07            5        7   \n",
       "2  david glickman               contributor  2017-01-07            5        7   \n",
       "3  david glickman               contributor  2017-01-07            5        7   \n",
       "4      jenn pelly  associate reviews editor  2017-01-06            4        6   \n",
       "\n",
       "   pub_month  pub_year    year       genre               label  \n",
       "0          1      2017  1998.0  electronic              virgin  \n",
       "1          1      2017  2016.0       metal           hathenter  \n",
       "2          1      2017  2016.0        rock        static shock  \n",
       "3          1      2017  2016.0        rock  fashionable idiots  \n",
       "4          1      2017  2016.0        rock     kill rock stars  "
      ]
     },
     "execution_count": 105,
     "metadata": {},
     "output_type": "execute_result"
    }
   ],
   "source": [
    "df = pd.read_csv('merged_review_data.csv', index_col='Unnamed: 0')\n",
    "df.head()"
   ]
  },
  {
   "cell_type": "markdown",
   "metadata": {},
   "source": [
    "## How have reviews varied over time?"
   ]
  },
  {
   "cell_type": "code",
   "execution_count": 52,
   "metadata": {
    "collapsed": false
   },
   "outputs": [
    {
     "data": {
      "text/plain": [
       "<matplotlib.text.Text at 0x1c24fc8b6d8>"
      ]
     },
     "execution_count": 52,
     "metadata": {},
     "output_type": "execute_result"
    },
    {
     "data": {
      "image/png": "[encoded data removed]",
      "text/plain": [
       "<matplotlib.figure.Figure at 0x1c24cc5f9e8>"
      ]
     },
     "metadata": {},
     "output_type": "display_data"
    }
   ],
   "source": [
    "# change publication date to datetime object\n",
    "df['pub_date'] = pd.to_datetime(df['pub_date'])\n",
    "\n",
    "# aggregate data for plotting\n",
    "year_rev = pd.pivot_table(df, index='pub_year', values='score')\n",
    "\n",
    "# create plot\n",
    "fig = plt.figure(figsize=(10,8))\n",
    "ax = plt.axes()\n",
    "\n",
    "ax.plot(year_rev, color='red')\n",
    "\n",
    "# plot formatting\n",
    "min = 1999\n",
    "max = 2017\n",
    "plt.axis([min, max, 0, 10])\n",
    "plt.xticks(np.arange(min, max+1, 1.0), fontsize=12);\n",
    "plt.yticks(fontsize=12)\n",
    "plt.title(\"Average Pitchfork Review Score by Year\",fontsize=20)\n",
    "plt.yticks(fontsize=12)\n",
    "plt.xlabel(\"Year\", fontsize=18)\n",
    "plt.ylabel(\"Average Score\", fontsize=18)\n"
   ]
  },
  {
   "cell_type": "markdown",
   "metadata": {},
   "source": [
    "# analysis"
   ]
  },
  {
   "cell_type": "markdown",
   "metadata": {},
   "source": [
    "## Distribution of Scores"
   ]
  },
  {
   "cell_type": "code",
   "execution_count": 63,
   "metadata": {
    "collapsed": false
   },
   "outputs": [
    {
     "data": {
      "image/png": "[encoded data removed]",
      "text/plain": [
       "<matplotlib.figure.Figure at 0x1c25066e390>"
      ]
     },
     "metadata": {},
     "output_type": "display_data"
    }
   ],
   "source": [
    "fig = plt.figure(figsize=(10,8))\n",
    "ax = plt.axes()\n",
    "\n",
    "plt.title('Distribution of Scores', fontsize=20)\n",
    "plt.xlabel('Score', fontsize=18)\n",
    "plt.ylabel('Observations', fontsize=18)\n",
    "ax.hist(df.score, bins=30);"
   ]
  },
  {
   "cell_type": "markdown",
   "metadata": {},
   "source": [
    "# analysis"
   ]
  },
  {
   "cell_type": "markdown",
   "metadata": {},
   "source": [
    "# Albums that received a perfect 10.0\n",
    "Pitchfork rarely gives a perfect 10. Let's see which albums over the years have gotten one."
   ]
  },
  {
   "cell_type": "code",
   "execution_count": 72,
   "metadata": {
    "collapsed": false
   },
   "outputs": [
    {
     "name": "stdout",
     "output_type": "stream",
     "text": [
      "76 albums have received a 10.\n"
     ]
    }
   ],
   "source": [
    "ten_albums = df.loc[df['score'] == 10,('title','artist')].drop_duplicates()\n",
    "print(\"%i albums have received a 10.\" % len(ten_albums))"
   ]
  },
  {
   "cell_type": "code",
   "execution_count": 75,
   "metadata": {
    "collapsed": false
   },
   "outputs": [
    {
     "data": {
      "text/html": [
       "<div>\n",
       "<style>\n",
       "    .dataframe thead tr:only-child th {\n",
       "        text-align: right;\n",
       "    }\n",
       "\n",
       "    .dataframe thead th {\n",
       "        text-align: left;\n",
       "    }\n",
       "\n",
       "    .dataframe tbody tr th {\n",
       "        vertical-align: top;\n",
       "    }\n",
       "</style>\n",
       "<table border=\"1\" class=\"dataframe\">\n",
       "  <thead>\n",
       "    <tr style=\"text-align: right;\">\n",
       "      <th></th>\n",
       "      <th>title</th>\n",
       "      <th>artist</th>\n",
       "    </tr>\n",
       "  </thead>\n",
       "  <tbody>\n",
       "    <tr>\n",
       "      <th>24195</th>\n",
       "      <td>source tags and codes</td>\n",
       "      <td>...and you will know us by the trail of dead</td>\n",
       "    </tr>\n",
       "    <tr>\n",
       "      <th>1779</th>\n",
       "      <td>people's instinctive travels and the paths of ...</td>\n",
       "      <td>a tribe called quest</td>\n",
       "    </tr>\n",
       "    <tr>\n",
       "      <th>12732</th>\n",
       "      <td>paul's boutique</td>\n",
       "      <td>beastie boys</td>\n",
       "    </tr>\n",
       "    <tr>\n",
       "      <th>21109</th>\n",
       "      <td>music has the right to children</td>\n",
       "      <td>boards of canada</td>\n",
       "    </tr>\n",
       "    <tr>\n",
       "      <th>264</th>\n",
       "      <td>blood on the tracks</td>\n",
       "      <td>bob dylan</td>\n",
       "    </tr>\n",
       "    <tr>\n",
       "      <th>25643</th>\n",
       "      <td>i see a darkness</td>\n",
       "      <td>bonnie prince billy</td>\n",
       "    </tr>\n",
       "    <tr>\n",
       "      <th>456</th>\n",
       "      <td>another green world</td>\n",
       "      <td>brian eno</td>\n",
       "    </tr>\n",
       "    <tr>\n",
       "      <th>18443</th>\n",
       "      <td>born to run: 30th anniversary edition</td>\n",
       "      <td>bruce springsteen</td>\n",
       "    </tr>\n",
       "    <tr>\n",
       "      <th>7887</th>\n",
       "      <td>tago mago [40th anniversary edition]</td>\n",
       "      <td>can</td>\n",
       "    </tr>\n",
       "    <tr>\n",
       "      <th>6279</th>\n",
       "      <td>voodoo</td>\n",
       "      <td>dangelo</td>\n",
       "    </tr>\n",
       "    <tr>\n",
       "      <th>1579</th>\n",
       "      <td>\"heroes\"</td>\n",
       "      <td>david bowie</td>\n",
       "    </tr>\n",
       "    <tr>\n",
       "      <th>1581</th>\n",
       "      <td>low</td>\n",
       "      <td>david bowie</td>\n",
       "    </tr>\n",
       "    <tr>\n",
       "      <th>19256</th>\n",
       "      <td>endtroducing... [deluxe edition]</td>\n",
       "      <td>dj shadow</td>\n",
       "    </tr>\n",
       "    <tr>\n",
       "      <th>23931</th>\n",
       "      <td>this year's model</td>\n",
       "      <td>elvis costello &amp; the attractions</td>\n",
       "    </tr>\n",
       "    <tr>\n",
       "      <th>6073</th>\n",
       "      <td>rumours</td>\n",
       "      <td>fleetwood mac</td>\n",
       "    </tr>\n",
       "    <tr>\n",
       "      <th>22392</th>\n",
       "      <td>the ascension</td>\n",
       "      <td>glenn branca</td>\n",
       "    </tr>\n",
       "    <tr>\n",
       "      <th>6880</th>\n",
       "      <td>liquid swords: chess box deluxe edition</td>\n",
       "      <td>gza</td>\n",
       "    </tr>\n",
       "    <tr>\n",
       "      <th>6188</th>\n",
       "      <td>donuts (45 box set)</td>\n",
       "      <td>j dilla</td>\n",
       "    </tr>\n",
       "    <tr>\n",
       "      <th>21231</th>\n",
       "      <td>live at the apollo [expanded edition]</td>\n",
       "      <td>james brown</td>\n",
       "    </tr>\n",
       "    <tr>\n",
       "      <th>1736</th>\n",
       "      <td>a love supreme: the complete masters</td>\n",
       "      <td>john coltrane</td>\n",
       "    </tr>\n",
       "  </tbody>\n",
       "</table>\n",
       "</div>"
      ],
      "text/plain": [
       "                                                   title  \\\n",
       "24195                              source tags and codes   \n",
       "1779   people's instinctive travels and the paths of ...   \n",
       "12732                                    paul's boutique   \n",
       "21109                    music has the right to children   \n",
       "264                                  blood on the tracks   \n",
       "25643                                   i see a darkness   \n",
       "456                                  another green world   \n",
       "18443              born to run: 30th anniversary edition   \n",
       "7887                tago mago [40th anniversary edition]   \n",
       "6279                                              voodoo   \n",
       "1579                                            \"heroes\"   \n",
       "1581                                                 low   \n",
       "19256                   endtroducing... [deluxe edition]   \n",
       "23931                                  this year's model   \n",
       "6073                                             rumours   \n",
       "22392                                      the ascension   \n",
       "6880             liquid swords: chess box deluxe edition   \n",
       "6188                                 donuts (45 box set)   \n",
       "21231              live at the apollo [expanded edition]   \n",
       "1736                a love supreme: the complete masters   \n",
       "\n",
       "                                             artist  \n",
       "24195  ...and you will know us by the trail of dead  \n",
       "1779                           a tribe called quest  \n",
       "12732                                  beastie boys  \n",
       "21109                              boards of canada  \n",
       "264                                       bob dylan  \n",
       "25643                           bonnie prince billy  \n",
       "456                                       brian eno  \n",
       "18443                             bruce springsteen  \n",
       "7887                                            can  \n",
       "6279                                        dangelo  \n",
       "1579                                    david bowie  \n",
       "1581                                    david bowie  \n",
       "19256                                     dj shadow  \n",
       "23931              elvis costello & the attractions  \n",
       "6073                                  fleetwood mac  \n",
       "22392                                  glenn branca  \n",
       "6880                                            gza  \n",
       "6188                                        j dilla  \n",
       "21231                                   james brown  \n",
       "1736                                  john coltrane  "
      ]
     },
     "execution_count": 75,
     "metadata": {},
     "output_type": "execute_result"
    }
   ],
   "source": [
    "# look at top 20 sorted alphabetically\n",
    "ten_albums.sort_values(by='artist').head(20)"
   ]
  },
  {
   "cell_type": "code",
   "execution_count": 108,
   "metadata": {
    "collapsed": false
   },
   "outputs": [
    {
     "data": {
      "text/plain": [
       "(1955, 2017)"
      ]
     },
     "execution_count": 108,
     "metadata": {},
     "output_type": "execute_result"
    },
    {
     "data": {
      "image/png": "[encoded data removed]",
      "text/plain": [
       "<matplotlib.figure.Figure at 0x1c252a6add8>"
      ]
     },
     "metadata": {},
     "output_type": "display_data"
    }
   ],
   "source": [
    "ten_album_years = df.loc[df['score'] == 10,('title','artist', 'year')]\n",
    "\n",
    "\n",
    "\n",
    "ten_album_years.hist(column='year', bins=50, figsize=(10,8), alpha=0.75)\n",
    "plt.title('Distribution of Years for 10.0 Albums', fontsize=20)\n",
    "plt.xlabel('Year', fontsize=18)\n",
    "plt.xlim([1955,2017])"
   ]
  },
  {
   "cell_type": "code",
   "execution_count": null,
   "metadata": {
    "collapsed": true
   },
   "outputs": [],
   "source": []
  }
 ],
 "metadata": {
  "kernelspec": {
   "display_name": "Python [conda env:py3DataScience]",
   "language": "python",
   "name": "conda-env-py3DataScience-py"
  },
  "language_info": {
   "codemirror_mode": {
    "name": "ipython",
    "version": 3
   },
   "file_extension": ".py",
   "mimetype": "text/x-python",
   "name": "python",
   "nbconvert_exporter": "python",
   "pygments_lexer": "ipython3",
   "version": "3.5.3"
  }
 },
 "nbformat": 4,
 "nbformat_minor": 1
}
