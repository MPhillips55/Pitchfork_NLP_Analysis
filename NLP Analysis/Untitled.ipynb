{
 "cells": [
  {
   "cell_type": "code",
   "execution_count": 1,
   "metadata": {
    "collapsed": true
   },
   "outputs": [],
   "source": [
    "import numpy as np\n",
    "import pandas as pd\n",
    "import matplotlib.pyplot as plt\n",
    "import seaborn as sns\n",
    "%matplotlib inline"
   ]
  },
  {
   "cell_type": "code",
   "execution_count": null,
   "metadata": {
    "collapsed": false
   },
   "outputs": [],
   "source": []
  },
  {
   "cell_type": "code",
   "execution_count": 3,
   "metadata": {
    "collapsed": false
   },
   "outputs": [
    {
     "data": {
      "text/html": [
       "<div>\n",
       "<style>\n",
       "    .dataframe thead tr:only-child th {\n",
       "        text-align: right;\n",
       "    }\n",
       "\n",
       "    .dataframe thead th {\n",
       "        text-align: left;\n",
       "    }\n",
       "\n",
       "    .dataframe tbody tr th {\n",
       "        vertical-align: top;\n",
       "    }\n",
       "</style>\n",
       "<table border=\"1\" class=\"dataframe\">\n",
       "  <thead>\n",
       "    <tr style=\"text-align: right;\">\n",
       "      <th></th>\n",
       "      <th>reviewid</th>\n",
       "      <th>content</th>\n",
       "    </tr>\n",
       "  </thead>\n",
       "  <tbody>\n",
       "    <tr>\n",
       "      <th>0</th>\n",
       "      <td>22703</td>\n",
       "      <td>“Trip-hop” eventually became a ’90s punchline,...</td>\n",
       "    </tr>\n",
       "  </tbody>\n",
       "</table>\n",
       "</div>"
      ],
      "text/plain": [
       "   reviewid                                            content\n",
       "0     22703  “Trip-hop” eventually became a ’90s punchline,..."
      ]
     },
     "execution_count": 3,
     "metadata": {},
     "output_type": "execute_result"
    }
   ],
   "source": [
    "sample = df.loc[df['reviewid'] == 22703, :]\n",
    "sample"
   ]
  },
  {
   "cell_type": "code",
   "execution_count": 4,
   "metadata": {
    "collapsed": true
   },
   "outputs": [],
   "source": [
    "with open('temp.json', 'w', encoding='utf-8') as f:\n",
    "    f.write(df.to_json(orient='records', lines=True, force_ascii=False))"
   ]
  },
  {
   "cell_type": "code",
   "execution_count": 18,
   "metadata": {
    "collapsed": false
   },
   "outputs": [],
   "source": [
    "import os\n",
    "review_json_filepath = os.path.join('test2.json')"
   ]
  },
  {
   "cell_type": "code",
   "execution_count": 6,
   "metadata": {
    "collapsed": false
   },
   "outputs": [
    {
     "name": "stdout",
     "output_type": "stream",
     "text": [
      "{\r\n",
      "\n"
     ]
    }
   ],
   "source": [
    "import codecs\n",
    "with codecs.open(review_json_filepath, encoding='utf-8') as f:\n",
    "    first_review = f.readline()\n",
    "    print(first_review)"
   ]
  },
  {
   "cell_type": "code",
   "execution_count": 7,
   "metadata": {
    "collapsed": true
   },
   "outputs": [],
   "source": [
    "review_txt_filepath = os.path.join('review_text.txt')"
   ]
  },
  {
   "cell_type": "code",
   "execution_count": 26,
   "metadata": {
    "collapsed": false
   },
   "outputs": [],
   "source": [
    "import json\n",
    "json_file = open('test2.json', encoding='utf8')\n",
    "review_txt = json.load(json_file, encoding='utf8')\n",
    "reviews = review_txt['rows']"
   ]
  },
  {
   "cell_type": "code",
   "execution_count": 34,
   "metadata": {
    "collapsed": false
   },
   "outputs": [],
   "source": [
    "i = iter(reviews)"
   ]
  },
  {
   "cell_type": "code",
   "execution_count": 37,
   "metadata": {
    "collapsed": false
   },
   "outputs": [
    {
     "ename": "TypeError",
     "evalue": "unhashable type: 'list'",
     "output_type": "error",
     "traceback": [
      "\u001b[1;31m---------------------------------------------------------------------------\u001b[0m",
      "\u001b[1;31mTypeError\u001b[0m                                 Traceback (most recent call last)",
      "\u001b[1;32m<ipython-input-37-3da405443337>\u001b[0m in \u001b[0;36m<module>\u001b[1;34m()\u001b[0m\n\u001b[1;32m----> 1\u001b[1;33m \u001b[0masdf\u001b[0m \u001b[1;33m=\u001b[0m \u001b[0mdict\u001b[0m\u001b[1;33m(\u001b[0m\u001b[0mzip\u001b[0m\u001b[1;33m(\u001b[0m\u001b[0mi\u001b[0m\u001b[1;33m,\u001b[0m\u001b[0mi\u001b[0m\u001b[1;33m)\u001b[0m\u001b[1;33m)\u001b[0m\u001b[1;33m\u001b[0m\u001b[0m\n\u001b[0m\u001b[0;32m      2\u001b[0m \u001b[0masdf\u001b[0m\u001b[1;33m\u001b[0m\u001b[0m\n",
      "\u001b[1;31mTypeError\u001b[0m: unhashable type: 'list'"
     ]
    }
   ],
   "source": [
    "asdf = dict(zip(i,i))\n",
    "asdf"
   ]
  },
  {
   "cell_type": "code",
   "execution_count": 41,
   "metadata": {
    "collapsed": false
   },
   "outputs": [],
   "source": [
    "review_dict = {}\n",
    "for review in reviews:\n",
    "    review_num = review[0]\n",
    "    \n",
    "    review_dict[review_num] = review[1]\n"
   ]
  },
  {
   "cell_type": "code",
   "execution_count": 43,
   "metadata": {
    "collapsed": false
   },
   "outputs": [
    {
     "data": {
      "text/plain": [
       "'Aberfeldy recorded their debut, Young Forever, using a single microphone.  Good for them.  In that\\n    spirit, I\\'ll cut short my obligatory introduction and bring you straight to the Edinburgh group\\'s lovelorn,\\n    unfortunately still-beating heart, exposed by the oh-so-unadorned production:\\n\"Love is a verb and a noun as well\\n    You find it in the dictionary under \\'L\\'\"\\n    \\n    That little witticism comes from \"Love Is an Arrow\", written and sung by Riley Briggs.  Based on one photo,\\n    Briggs looks like a young Anthony Michael Hall, though his vocals chart a fairly standard indie course,\\n    borrowing from Neil Young (\"A Friend Like You\"), Ben Gibbard (\"What You Do\") and plain-spoken sensitive\\n    guys everywhere.\\n    \\n    Listen, some of my best friends are plain-spoken sensitive guys.  Some of my favorite albums consist of\\n    campfire singalongs by bands with modest acoustic guitar chops, cute names and still-cuter accents.  But\\n    those lyrics!  No band that would sing such words deserves the easily made comparisons to fellow Scots\\n    Belle & Sebastian or even Camera Obscura, let alone those earnest Aussies, The Lucksmiths.  (Compare them\\n    to twee progenitors like The Pastels or Talulah Gosh and you owe me your cardigan.)  Of course, with a\\n    moniker nipped from a Scottish vacation destination, Aberfeldy practically beg for such name-dropping.\\n    But there\\'s no need to encourage them.\\n    \\n    Throughout the record, Briggs shows a predisposition toward bungling the old English teachers\\' motto: show,\\n    not tell.  This may be the result of a medical condition, like dyslexia, in which case we should hold our\\n    snark.  Still, it seems like this guy can\\'t open his mouth without saying nothing.  \"So sad you\\'re leaving,\"\\n    he sings on \"Out of Love\"; \"I\\'m so lonely now she\\'s gone,\" he adds on \"Tie One On\", which teems with such\\n    vivid storytelling.  He goes on to rhyme \"sacred\" with \"wasted\" and \"reasons\" with \"leaving\" until somewhere\\n    the editor of a rhyming dictionary loses her job.\\n    \\n    As is so often the case, Aberfeldy are at their best when they stumble beyond trite infantilism.  First\\n    single \"Vegetarian Restaurant\" lopes along with winning \"Tangled Up in Blue\" guitar strums, accented with\\n    subtle fiddles and lovely boy/girl harmonies.  What Briggs is seemingly aiming at on the album is a cheerful,\\n    unpretentious look at the everyday; here, he finally makes the everyday interesting.  \"I like the way that\\n    you dance when you\\'re in the kitchen,\" he says, and I\\'m willing to see where the dance takes him.  Then he\\n    proclaims, \"Sometimes I can\\'t believe you\\'re even human,\" and I duck for cover.  Speaking of aliens,\\n    \"Heliopolis by Night\" is the record\\'s next-strongest track (and incidentally, its second single),\\n    a whimsical spaceship song complete with nose-held vocals.  It\\'s not perfect, but it\\'s unique.\\n    \\n    So yeah, Young Forever was recorded on one microphone.  And yeah, that means the warm acoustic pop\\n    heats up my headphones like a veritable heliopolis.  I can\\'t help but root for an album that begins \"I love\\n    everyone,\" because the last thing the indie world needs is another batch of sullen, well-dressed scenesters.\\n    Yet, as in any relationship, just because you love someone doesn\\'t mean they\\'ll love you back.  \"There is\\n    nothing in the world as beautiful as you,\" Gibbs tells us in a tender moment.  He probably means it.  Good\\n    for him.  Even if he doesn\\'t, I hope it gets him laid.'"
      ]
     },
     "execution_count": 43,
     "metadata": {},
     "output_type": "execute_result"
    }
   ],
   "source": [
    "review_dict[1]"
   ]
  },
  {
   "cell_type": "code",
   "execution_count": null,
   "metadata": {
    "collapsed": true
   },
   "outputs": [],
   "source": []
  },
  {
   "cell_type": "code",
   "execution_count": 63,
   "metadata": {
    "collapsed": false
   },
   "outputs": [
    {
     "data": {
      "text/plain": [
       "'Aberfeldy recorded their debut, Young Forever, using a single microphone.  Good for them.  In that\\\\n    spirit, I\\'ll cut short my obligatory introduction and bring you straight to the Edinburgh group\\'s lovelorn,\\\\n    unfortunately still-beating heart, exposed by the oh-so-unadorned production:\\\\n\"Love is a verb and a noun as well\\\\n    You find it in the dictionary under \\'L\\'\"\\\\n    \\\\n    That little witticism comes from \"Love Is an Arrow\", written and sung by Riley Briggs.  Based on one photo,\\\\n    Briggs looks like a young Anthony Michael Hall, though his vocals chart a fairly standard indie course,\\\\n    borrowing from Neil Young (\"A Friend Like You\"), Ben Gibbard (\"What You Do\") and plain-spoken sensitive\\\\n    guys everywhere.\\\\n    \\\\n    Listen, some of my best friends are plain-spoken sensitive guys.  Some of my favorite albums consist of\\\\n    campfire singalongs by bands with modest acoustic guitar chops, cute names and still-cuter accents.  But\\\\n    those lyrics!  No band that would sing such words deserves the easily made comparisons to fellow Scots\\\\n    Belle & Sebastian or even Camera Obscura, let alone those earnest Aussies, The Lucksmiths.  (Compare them\\\\n    to twee progenitors like The Pastels or Talulah Gosh and you owe me your cardigan.)  Of course, with a\\\\n    moniker nipped from a Scottish vacation destination, Aberfeldy practically beg for such name-dropping.\\\\n    But there\\'s no need to encourage them.\\\\n    \\\\n    Throughout the record, Briggs shows a predisposition toward bungling the old English teachers\\' motto: show,\\\\n    not tell.  This may be the result of a medical condition, like dyslexia, in which case we should hold our\\\\n    snark.  Still, it seems like this guy can\\'t open his mouth without saying nothing.  \"So sad you\\'re leaving,\"\\\\n    he sings on \"Out of Love\"; \"I\\'m so lonely now she\\'s gone,\" he adds on \"Tie One On\", which teems with such\\\\n    vivid storytelling.  He goes on to rhyme \"sacred\" with \"wasted\" and \"reasons\" with \"leaving\" until somewhere\\\\n    the editor of a rhyming dictionary loses her job.\\\\n    \\\\n    As is so often the case, Aberfeldy are at their best when they stumble beyond trite infantilism.  First\\\\n    single \"Vegetarian Restaurant\" lopes along with winning \"Tangled Up in Blue\" guitar strums, accented with\\\\n    subtle fiddles and lovely boy/girl harmonies.  What Briggs is seemingly aiming at on the album is a cheerful,\\\\n    unpretentious look at the everyday; here, he finally makes the everyday interesting.  \"I like the way that\\\\n    you dance when you\\'re in the kitchen,\" he says, and I\\'m willing to see where the dance takes him.  Then he\\\\n    proclaims, \"Sometimes I can\\'t believe you\\'re even human,\" and I duck for cover.  Speaking of aliens,\\\\n    \"Heliopolis by Night\" is the record\\'s next-strongest track (and incidentally, its second single),\\\\n    a whimsical spaceship song complete with nose-held vocals.  It\\'s not perfect, but it\\'s unique.\\\\n    \\\\n    So yeah, Young Forever was recorded on one microphone.  And yeah, that means the warm acoustic pop\\\\n    heats up my headphones like a veritable heliopolis.  I can\\'t help but root for an album that begins \"I love\\\\n    everyone,\" because the last thing the indie world needs is another batch of sullen, well-dressed scenesters.\\\\n    Yet, as in any relationship, just because you love someone doesn\\'t mean they\\'ll love you back.  \"There is\\\\n    nothing in the world as beautiful as you,\" Gibbs tells us in a tender moment.  He probably means it.  Good\\\\n    for him.  Even if he doesn\\'t, I hope it gets him laid.'"
      ]
     },
     "execution_count": 63,
     "metadata": {},
     "output_type": "execute_result"
    }
   ],
   "source": [
    "asdf = review_dict[1].replace('\\n', '\\\\n')\n",
    "asdf"
   ]
  },
  {
   "cell_type": "code",
   "execution_count": 19,
   "metadata": {
    "collapsed": true
   },
   "outputs": [],
   "source": [
    "review_txt_filepath = os.path.join('review_text.txt')"
   ]
  },
  {
   "cell_type": "code",
   "execution_count": 66,
   "metadata": {
    "collapsed": false
   },
   "outputs": [
    {
     "name": "stdout",
     "output_type": "stream",
     "text": [
      "Text from 18,393 music reviews\n",
      "          written to the new txt file.\n",
      "Text from 18,394 music reviews in the txt file.\n"
     ]
    }
   ],
   "source": [
    "review_count = 0\n",
    "review_dict = {}\n",
    "# create & open a new file in write mode\n",
    "with codecs.open(review_txt_filepath, 'w', encoding='utf_8') as review_txt_file:\n",
    "\n",
    "    # open the existing review json file\n",
    "    with codecs.open(review_json_filepath, encoding='utf_8') as review_json_file:\n",
    "\n",
    "        # loop through all reviews in the existing file and convert to dict\n",
    "        \n",
    "        for review in reviews:\n",
    "            review_num = review[0]\n",
    "            review_dict[review_num] = review[1]\n",
    "\n",
    "            #print((review_dict[review_num] + '\\n'), file=review_txt_filepath)\n",
    "            newline = \" \".join(review_dict[review_num].split())\n",
    "            #newline = review_dict[review_num].replace('\\r', '\\\\r')\n",
    "            review_txt_file.write(newline + '\\n')\n",
    "            #review_txt_file.write(review_dict[review_num].replace('\\n', '\\\\n') + '\\n')\n",
    "            review_count += 1\n",
    "\n",
    "\n",
    "\n",
    "print(u'''Text from {:,} music reviews\n",
    "          written to the new txt file.'''.format(review_count))\n",
    "    \n",
    "\n",
    "print(u'Text from {:,} music reviews in the txt file.'.format(review_count + 1))"
   ]
  },
  {
   "cell_type": "code",
   "execution_count": 8,
   "metadata": {
    "collapsed": true
   },
   "outputs": [],
   "source": [
    "import sqlite3"
   ]
  },
  {
   "cell_type": "code",
   "execution_count": 22,
   "metadata": {
    "collapsed": true
   },
   "outputs": [],
   "source": [
    "conn = sqlite3.connect('database.sqlite')"
   ]
  },
  {
   "cell_type": "code",
   "execution_count": 23,
   "metadata": {
    "collapsed": true
   },
   "outputs": [],
   "source": [
    "cur = conn.cursor()"
   ]
  },
  {
   "cell_type": "code",
   "execution_count": 24,
   "metadata": {
    "collapsed": false
   },
   "outputs": [
    {
     "data": {
      "text/plain": [
       "<sqlite3.Cursor at 0x25521d66490>"
      ]
     },
     "execution_count": 24,
     "metadata": {},
     "output_type": "execute_result"
    }
   ],
   "source": [
    "cur.execute(\"select * from content;\")"
   ]
  },
  {
   "cell_type": "code",
   "execution_count": 25,
   "metadata": {
    "collapsed": false
   },
   "outputs": [],
   "source": [
    "results = cur.fetchall()\n"
   ]
  },
  {
   "cell_type": "code",
   "execution_count": 26,
   "metadata": {
    "collapsed": false
   },
   "outputs": [],
   "source": [
    "import json\n",
    "json_string = json.dumps(results)"
   ]
  },
  {
   "cell_type": "code",
   "execution_count": 27,
   "metadata": {
    "collapsed": false
   },
   "outputs": [],
   "source": [
    "with open('test2.json', 'w', encoding='utf-8') as outfile:\n",
    "    outfile.write(json_string)"
   ]
  },
  {
   "cell_type": "code",
   "execution_count": 20,
   "metadata": {
    "collapsed": true
   },
   "outputs": [],
   "source": [
    "cur.close()"
   ]
  },
  {
   "cell_type": "code",
   "execution_count": 21,
   "metadata": {
    "collapsed": true
   },
   "outputs": [],
   "source": [
    "conn.close()"
   ]
  },
  {
   "cell_type": "code",
   "execution_count": 42,
   "metadata": {
    "collapsed": false
   },
   "outputs": [
    {
     "data": {
      "text/html": [
       "<div>\n",
       "<style>\n",
       "    .dataframe thead tr:only-child th {\n",
       "        text-align: right;\n",
       "    }\n",
       "\n",
       "    .dataframe thead th {\n",
       "        text-align: left;\n",
       "    }\n",
       "\n",
       "    .dataframe tbody tr th {\n",
       "        vertical-align: top;\n",
       "    }\n",
       "</style>\n",
       "<table border=\"1\" class=\"dataframe\">\n",
       "  <thead>\n",
       "    <tr style=\"text-align: right;\">\n",
       "      <th></th>\n",
       "      <th>reviewid</th>\n",
       "      <th>content</th>\n",
       "    </tr>\n",
       "  </thead>\n",
       "  <tbody>\n",
       "    <tr>\n",
       "      <th>0</th>\n",
       "      <td>22703</td>\n",
       "      <td>“Trip-hop” eventually became a ’90s punchline,...</td>\n",
       "    </tr>\n",
       "    <tr>\n",
       "      <th>1</th>\n",
       "      <td>22721</td>\n",
       "      <td>Eight years, five albums, and two EPs in, the ...</td>\n",
       "    </tr>\n",
       "    <tr>\n",
       "      <th>2</th>\n",
       "      <td>22659</td>\n",
       "      <td>Minneapolis’ Uranium Club seem to revel in bei...</td>\n",
       "    </tr>\n",
       "    <tr>\n",
       "      <th>3</th>\n",
       "      <td>22661</td>\n",
       "      <td>Kleenex began with a crash. It transpired one ...</td>\n",
       "    </tr>\n",
       "    <tr>\n",
       "      <th>4</th>\n",
       "      <td>22725</td>\n",
       "      <td>It is impossible to consider a given release b...</td>\n",
       "    </tr>\n",
       "  </tbody>\n",
       "</table>\n",
       "</div>"
      ],
      "text/plain": [
       "   reviewid                                            content\n",
       "0     22703  “Trip-hop” eventually became a ’90s punchline,...\n",
       "1     22721  Eight years, five albums, and two EPs in, the ...\n",
       "2     22659  Minneapolis’ Uranium Club seem to revel in bei...\n",
       "3     22661  Kleenex began with a crash. It transpired one ...\n",
       "4     22725  It is impossible to consider a given release b..."
      ]
     },
     "execution_count": 42,
     "metadata": {},
     "output_type": "execute_result"
    }
   ],
   "source": [
    "conn = sqlite3.connect('database.sqlite')\n",
    "df = pd.read_sql_query(\"select * from content\", conn)\n",
    "df.head()"
   ]
  },
  {
   "cell_type": "code",
   "execution_count": 62,
   "metadata": {
    "collapsed": false
   },
   "outputs": [],
   "source": [
    "with open('review_json.json', 'w', encoding='utf8') as f:\n",
    "    f.write(df['content'].to_json(orient='records', force_ascii=False))"
   ]
  },
  {
   "cell_type": "code",
   "execution_count": null,
   "metadata": {
    "collapsed": true
   },
   "outputs": [],
   "source": []
  }
 ],
 "metadata": {
  "anaconda-cloud": {},
  "kernelspec": {
   "display_name": "Python [conda env:py3DataScience]",
   "language": "python",
   "name": "conda-env-py3DataScience-py"
  },
  "language_info": {
   "codemirror_mode": {
    "name": "ipython",
    "version": 3
   },
   "file_extension": ".py",
   "mimetype": "text/x-python",
   "name": "python",
   "nbconvert_exporter": "python",
   "pygments_lexer": "ipython3",
   "version": "3.5.3"
  }
 },
 "nbformat": 4,
 "nbformat_minor": 1
}
